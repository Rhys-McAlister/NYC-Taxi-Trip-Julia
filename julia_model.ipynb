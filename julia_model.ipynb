{
 "cells": [
  {
   "cell_type": "code",
   "execution_count": 6,
   "metadata": {},
   "outputs": [
    {
     "name": "stderr",
     "output_type": "stream",
     "text": [
      "┌ Info: For silent loading, specify `verbosity=0`. \n",
      "└ @ Main C:\\Users\\rhys-\\.julia\\packages\\MLJModels\\gJoE1\\src\\loading.jl:159\n"
     ]
    },
    {
     "name": "stdout",
     "output_type": "stream",
     "text": [
      "import MLJLinearModels"
     ]
    },
    {
     "data": {
      "text/html": [
       "<div><div style = \"float: left;\"><span>2463931×24 DataFrame</span></div><div style = \"float: right;\"><span style = \"font-style: italic;\">2463906 rows omitted</span></div><div style = \"clear: both;\"></div></div><div class = \"data-frame\" style = \"overflow-x: scroll;\"><table class = \"data-frame\" style = \"margin-bottom: 6px;\"><thead><tr class = \"header\"><th class = \"rowNumber\" style = \"font-weight: bold; text-align: right;\">Row</th><th style = \"text-align: left;\">passenger_count</th><th style = \"text-align: left;\">trip_distance</th><th style = \"text-align: left;\">RatecodeID</th><th style = \"text-align: left;\">store_and_fwd_flag</th><th style = \"text-align: left;\">PULocationID</th><th style = \"text-align: left;\">DOLocationID</th><th style = \"text-align: left;\">payment_type</th><th style = \"text-align: left;\">fare_amount</th><th style = \"text-align: left;\">extra</th><th style = \"text-align: left;\">mta_tax</th><th style = \"text-align: left;\">tip_amount</th><th style = \"text-align: left;\">tolls_amount</th><th style = \"text-align: left;\">improvement_surcharge</th><th style = \"text-align: left;\">total_amount</th><th style = \"text-align: left;\">congestion_surcharge</th><th style = \"text-align: left;\">airport_fee</th><th style = \"text-align: left;\">pickup_year</th><th style = \"text-align: left;\">pickup_month</th><th style = \"text-align: left;\">pickup_day</th><th style = \"text-align: left;\">pickup_hour</th><th style = \"text-align: left;\">pickup_minute</th><th style = \"text-align: left;\">pickup_second</th><th style = \"text-align: left;\">pickup_weekday</th><th style = \"text-align: left;\">pickup_week</th></tr><tr class = \"subheader headerLastRow\"><th class = \"rowNumber\" style = \"font-weight: bold; text-align: right;\"></th><th title = \"Float64\" style = \"text-align: left;\">Float64</th><th title = \"Union{Missing, Float64}\" style = \"text-align: left;\">Float64?</th><th title = \"Float64\" style = \"text-align: left;\">Float64</th><th title = \"Union{Missing, String}\" style = \"text-align: left;\">String?</th><th title = \"Union{Missing, Int64}\" style = \"text-align: left;\">Int64?</th><th title = \"Union{Missing, Int64}\" style = \"text-align: left;\">Int64?</th><th title = \"Union{Missing, Int64}\" style = \"text-align: left;\">Int64?</th><th title = \"Union{Missing, Float64}\" style = \"text-align: left;\">Float64?</th><th title = \"Union{Missing, Float64}\" style = \"text-align: left;\">Float64?</th><th title = \"Union{Missing, Float64}\" style = \"text-align: left;\">Float64?</th><th title = \"Union{Missing, Float64}\" style = \"text-align: left;\">Float64?</th><th title = \"Union{Missing, Float64}\" style = \"text-align: left;\">Float64?</th><th title = \"Union{Missing, Float64}\" style = \"text-align: left;\">Float64?</th><th title = \"Union{Missing, Float64}\" style = \"text-align: left;\">Float64?</th><th title = \"Float64\" style = \"text-align: left;\">Float64</th><th title = \"Float64\" style = \"text-align: left;\">Float64</th><th title = \"Int64\" style = \"text-align: left;\">Int64</th><th title = \"Int64\" style = \"text-align: left;\">Int64</th><th title = \"Int64\" style = \"text-align: left;\">Int64</th><th title = \"Int64\" style = \"text-align: left;\">Int64</th><th title = \"Int64\" style = \"text-align: left;\">Int64</th><th title = \"Int64\" style = \"text-align: left;\">Int64</th><th title = \"String\" style = \"text-align: left;\">String</th><th title = \"Int64\" style = \"text-align: left;\">Int64</th></tr></thead><tbody><tr><td class = \"rowNumber\" style = \"font-weight: bold; text-align: right;\">1</td><td style = \"text-align: right;\">2.0</td><td style = \"text-align: right;\">3.8</td><td style = \"text-align: right;\">1.0</td><td style = \"text-align: left;\">N</td><td style = \"text-align: right;\">142</td><td style = \"text-align: right;\">236</td><td style = \"text-align: right;\">1</td><td style = \"text-align: right;\">14.5</td><td style = \"text-align: right;\">3.0</td><td style = \"text-align: right;\">0.5</td><td style = \"text-align: right;\">3.65</td><td style = \"text-align: right;\">0.0</td><td style = \"text-align: right;\">0.3</td><td style = \"text-align: right;\">21.95</td><td style = \"text-align: right;\">2.5</td><td style = \"text-align: right;\">0.0</td><td style = \"text-align: right;\">2022</td><td style = \"text-align: right;\">1</td><td style = \"text-align: right;\">1</td><td style = \"text-align: right;\">0</td><td style = \"text-align: right;\">35</td><td style = \"text-align: right;\">40</td><td style = \"text-align: left;\">Saturday</td><td style = \"text-align: right;\">52</td></tr><tr><td class = \"rowNumber\" style = \"font-weight: bold; text-align: right;\">2</td><td style = \"text-align: right;\">1.0</td><td style = \"text-align: right;\">2.1</td><td style = \"text-align: right;\">1.0</td><td style = \"text-align: left;\">N</td><td style = \"text-align: right;\">236</td><td style = \"text-align: right;\">42</td><td style = \"text-align: right;\">1</td><td style = \"text-align: right;\">8.0</td><td style = \"text-align: right;\">0.5</td><td style = \"text-align: right;\">0.5</td><td style = \"text-align: right;\">4.0</td><td style = \"text-align: right;\">0.0</td><td style = \"text-align: right;\">0.3</td><td style = \"text-align: right;\">13.3</td><td style = \"text-align: right;\">0.0</td><td style = \"text-align: right;\">0.0</td><td style = \"text-align: right;\">2022</td><td style = \"text-align: right;\">1</td><td style = \"text-align: right;\">1</td><td style = \"text-align: right;\">0</td><td style = \"text-align: right;\">33</td><td style = \"text-align: right;\">43</td><td style = \"text-align: left;\">Saturday</td><td style = \"text-align: right;\">52</td></tr><tr><td class = \"rowNumber\" style = \"font-weight: bold; text-align: right;\">3</td><td style = \"text-align: right;\">1.0</td><td style = \"text-align: right;\">0.97</td><td style = \"text-align: right;\">1.0</td><td style = \"text-align: left;\">N</td><td style = \"text-align: right;\">166</td><td style = \"text-align: right;\">166</td><td style = \"text-align: right;\">1</td><td style = \"text-align: right;\">7.5</td><td style = \"text-align: right;\">0.5</td><td style = \"text-align: right;\">0.5</td><td style = \"text-align: right;\">1.76</td><td style = \"text-align: right;\">0.0</td><td style = \"text-align: right;\">0.3</td><td style = \"text-align: right;\">10.56</td><td style = \"text-align: right;\">0.0</td><td style = \"text-align: right;\">0.0</td><td style = \"text-align: right;\">2022</td><td style = \"text-align: right;\">1</td><td style = \"text-align: right;\">1</td><td style = \"text-align: right;\">0</td><td style = \"text-align: right;\">53</td><td style = \"text-align: right;\">21</td><td style = \"text-align: left;\">Saturday</td><td style = \"text-align: right;\">52</td></tr><tr><td class = \"rowNumber\" style = \"font-weight: bold; text-align: right;\">4</td><td style = \"text-align: right;\">1.0</td><td style = \"text-align: right;\">1.09</td><td style = \"text-align: right;\">1.0</td><td style = \"text-align: left;\">N</td><td style = \"text-align: right;\">114</td><td style = \"text-align: right;\">68</td><td style = \"text-align: right;\">2</td><td style = \"text-align: right;\">8.0</td><td style = \"text-align: right;\">0.5</td><td style = \"text-align: right;\">0.5</td><td style = \"text-align: right;\">0.0</td><td style = \"text-align: right;\">0.0</td><td style = \"text-align: right;\">0.3</td><td style = \"text-align: right;\">11.8</td><td style = \"text-align: right;\">2.5</td><td style = \"text-align: right;\">0.0</td><td style = \"text-align: right;\">2022</td><td style = \"text-align: right;\">1</td><td style = \"text-align: right;\">1</td><td style = \"text-align: right;\">0</td><td style = \"text-align: right;\">25</td><td style = \"text-align: right;\">21</td><td style = \"text-align: left;\">Saturday</td><td style = \"text-align: right;\">52</td></tr><tr><td class = \"rowNumber\" style = \"font-weight: bold; text-align: right;\">5</td><td style = \"text-align: right;\">1.0</td><td style = \"text-align: right;\">4.3</td><td style = \"text-align: right;\">1.0</td><td style = \"text-align: left;\">N</td><td style = \"text-align: right;\">68</td><td style = \"text-align: right;\">163</td><td style = \"text-align: right;\">1</td><td style = \"text-align: right;\">23.5</td><td style = \"text-align: right;\">0.5</td><td style = \"text-align: right;\">0.5</td><td style = \"text-align: right;\">3.0</td><td style = \"text-align: right;\">0.0</td><td style = \"text-align: right;\">0.3</td><td style = \"text-align: right;\">30.3</td><td style = \"text-align: right;\">2.5</td><td style = \"text-align: right;\">0.0</td><td style = \"text-align: right;\">2022</td><td style = \"text-align: right;\">1</td><td style = \"text-align: right;\">1</td><td style = \"text-align: right;\">0</td><td style = \"text-align: right;\">36</td><td style = \"text-align: right;\">48</td><td style = \"text-align: left;\">Saturday</td><td style = \"text-align: right;\">52</td></tr><tr><td class = \"rowNumber\" style = \"font-weight: bold; text-align: right;\">6</td><td style = \"text-align: right;\">1.0</td><td style = \"text-align: right;\">10.3</td><td style = \"text-align: right;\">1.0</td><td style = \"text-align: left;\">N</td><td style = \"text-align: right;\">138</td><td style = \"text-align: right;\">161</td><td style = \"text-align: right;\">1</td><td style = \"text-align: right;\">33.0</td><td style = \"text-align: right;\">3.0</td><td style = \"text-align: right;\">0.5</td><td style = \"text-align: right;\">13.0</td><td style = \"text-align: right;\">6.55</td><td style = \"text-align: right;\">0.3</td><td style = \"text-align: right;\">56.35</td><td style = \"text-align: right;\">2.5</td><td style = \"text-align: right;\">0.0</td><td style = \"text-align: right;\">2022</td><td style = \"text-align: right;\">1</td><td style = \"text-align: right;\">1</td><td style = \"text-align: right;\">0</td><td style = \"text-align: right;\">40</td><td style = \"text-align: right;\">15</td><td style = \"text-align: left;\">Saturday</td><td style = \"text-align: right;\">52</td></tr><tr><td class = \"rowNumber\" style = \"font-weight: bold; text-align: right;\">7</td><td style = \"text-align: right;\">1.0</td><td style = \"text-align: right;\">5.07</td><td style = \"text-align: right;\">1.0</td><td style = \"text-align: left;\">N</td><td style = \"text-align: right;\">233</td><td style = \"text-align: right;\">87</td><td style = \"text-align: right;\">1</td><td style = \"text-align: right;\">17.0</td><td style = \"text-align: right;\">0.5</td><td style = \"text-align: right;\">0.5</td><td style = \"text-align: right;\">5.2</td><td style = \"text-align: right;\">0.0</td><td style = \"text-align: right;\">0.3</td><td style = \"text-align: right;\">26.0</td><td style = \"text-align: right;\">2.5</td><td style = \"text-align: right;\">0.0</td><td style = \"text-align: right;\">2022</td><td style = \"text-align: right;\">1</td><td style = \"text-align: right;\">1</td><td style = \"text-align: right;\">0</td><td style = \"text-align: right;\">20</td><td style = \"text-align: right;\">50</td><td style = \"text-align: left;\">Saturday</td><td style = \"text-align: right;\">52</td></tr><tr><td class = \"rowNumber\" style = \"font-weight: bold; text-align: right;\">8</td><td style = \"text-align: right;\">1.0</td><td style = \"text-align: right;\">2.02</td><td style = \"text-align: right;\">1.0</td><td style = \"text-align: left;\">N</td><td style = \"text-align: right;\">238</td><td style = \"text-align: right;\">152</td><td style = \"text-align: right;\">2</td><td style = \"text-align: right;\">9.0</td><td style = \"text-align: right;\">0.5</td><td style = \"text-align: right;\">0.5</td><td style = \"text-align: right;\">0.0</td><td style = \"text-align: right;\">0.0</td><td style = \"text-align: right;\">0.3</td><td style = \"text-align: right;\">12.8</td><td style = \"text-align: right;\">2.5</td><td style = \"text-align: right;\">0.0</td><td style = \"text-align: right;\">2022</td><td style = \"text-align: right;\">1</td><td style = \"text-align: right;\">1</td><td style = \"text-align: right;\">0</td><td style = \"text-align: right;\">13</td><td style = \"text-align: right;\">4</td><td style = \"text-align: left;\">Saturday</td><td style = \"text-align: right;\">52</td></tr><tr><td class = \"rowNumber\" style = \"font-weight: bold; text-align: right;\">9</td><td style = \"text-align: right;\">1.0</td><td style = \"text-align: right;\">2.71</td><td style = \"text-align: right;\">1.0</td><td style = \"text-align: left;\">N</td><td style = \"text-align: right;\">166</td><td style = \"text-align: right;\">236</td><td style = \"text-align: right;\">1</td><td style = \"text-align: right;\">12.0</td><td style = \"text-align: right;\">0.5</td><td style = \"text-align: right;\">0.5</td><td style = \"text-align: right;\">2.25</td><td style = \"text-align: right;\">0.0</td><td style = \"text-align: right;\">0.3</td><td style = \"text-align: right;\">18.05</td><td style = \"text-align: right;\">2.5</td><td style = \"text-align: right;\">0.0</td><td style = \"text-align: right;\">2022</td><td style = \"text-align: right;\">1</td><td style = \"text-align: right;\">1</td><td style = \"text-align: right;\">0</td><td style = \"text-align: right;\">30</td><td style = \"text-align: right;\">2</td><td style = \"text-align: left;\">Saturday</td><td style = \"text-align: right;\">52</td></tr><tr><td class = \"rowNumber\" style = \"font-weight: bold; text-align: right;\">10</td><td style = \"text-align: right;\">1.0</td><td style = \"text-align: right;\">0.78</td><td style = \"text-align: right;\">1.0</td><td style = \"text-align: left;\">N</td><td style = \"text-align: right;\">236</td><td style = \"text-align: right;\">141</td><td style = \"text-align: right;\">2</td><td style = \"text-align: right;\">5.0</td><td style = \"text-align: right;\">0.5</td><td style = \"text-align: right;\">0.5</td><td style = \"text-align: right;\">0.0</td><td style = \"text-align: right;\">0.0</td><td style = \"text-align: right;\">0.3</td><td style = \"text-align: right;\">8.8</td><td style = \"text-align: right;\">2.5</td><td style = \"text-align: right;\">0.0</td><td style = \"text-align: right;\">2022</td><td style = \"text-align: right;\">1</td><td style = \"text-align: right;\">1</td><td style = \"text-align: right;\">0</td><td style = \"text-align: right;\">48</td><td style = \"text-align: right;\">52</td><td style = \"text-align: left;\">Saturday</td><td style = \"text-align: right;\">52</td></tr><tr><td class = \"rowNumber\" style = \"font-weight: bold; text-align: right;\">11</td><td style = \"text-align: right;\">1.0</td><td style = \"text-align: right;\">1.91</td><td style = \"text-align: right;\">1.0</td><td style = \"text-align: left;\">N</td><td style = \"text-align: right;\">141</td><td style = \"text-align: right;\">229</td><td style = \"text-align: right;\">2</td><td style = \"text-align: right;\">8.5</td><td style = \"text-align: right;\">0.5</td><td style = \"text-align: right;\">0.5</td><td style = \"text-align: right;\">0.0</td><td style = \"text-align: right;\">0.0</td><td style = \"text-align: right;\">0.3</td><td style = \"text-align: right;\">12.3</td><td style = \"text-align: right;\">2.5</td><td style = \"text-align: right;\">0.0</td><td style = \"text-align: right;\">2022</td><td style = \"text-align: right;\">1</td><td style = \"text-align: right;\">1</td><td style = \"text-align: right;\">0</td><td style = \"text-align: right;\">55</td><td style = \"text-align: right;\">3</td><td style = \"text-align: left;\">Saturday</td><td style = \"text-align: right;\">52</td></tr><tr><td class = \"rowNumber\" style = \"font-weight: bold; text-align: right;\">12</td><td style = \"text-align: right;\">3.0</td><td style = \"text-align: right;\">0.82</td><td style = \"text-align: right;\">1.0</td><td style = \"text-align: left;\">N</td><td style = \"text-align: right;\">114</td><td style = \"text-align: right;\">90</td><td style = \"text-align: right;\">2</td><td style = \"text-align: right;\">4.5</td><td style = \"text-align: right;\">0.5</td><td style = \"text-align: right;\">0.5</td><td style = \"text-align: right;\">0.0</td><td style = \"text-align: right;\">0.0</td><td style = \"text-align: right;\">0.3</td><td style = \"text-align: right;\">8.3</td><td style = \"text-align: right;\">2.5</td><td style = \"text-align: right;\">0.0</td><td style = \"text-align: right;\">2022</td><td style = \"text-align: right;\">1</td><td style = \"text-align: right;\">1</td><td style = \"text-align: right;\">0</td><td style = \"text-align: right;\">31</td><td style = \"text-align: right;\">6</td><td style = \"text-align: left;\">Saturday</td><td style = \"text-align: right;\">52</td></tr><tr><td class = \"rowNumber\" style = \"font-weight: bold; text-align: right;\">13</td><td style = \"text-align: right;\">3.0</td><td style = \"text-align: right;\">0.73</td><td style = \"text-align: right;\">1.0</td><td style = \"text-align: left;\">N</td><td style = \"text-align: right;\">234</td><td style = \"text-align: right;\">113</td><td style = \"text-align: right;\">2</td><td style = \"text-align: right;\">4.5</td><td style = \"text-align: right;\">0.5</td><td style = \"text-align: right;\">0.5</td><td style = \"text-align: right;\">0.0</td><td style = \"text-align: right;\">0.0</td><td style = \"text-align: right;\">0.3</td><td style = \"text-align: right;\">8.3</td><td style = \"text-align: right;\">2.5</td><td style = \"text-align: right;\">0.0</td><td style = \"text-align: right;\">2022</td><td style = \"text-align: right;\">1</td><td style = \"text-align: right;\">1</td><td style = \"text-align: right;\">0</td><td style = \"text-align: right;\">41</td><td style = \"text-align: right;\">7</td><td style = \"text-align: left;\">Saturday</td><td style = \"text-align: right;\">52</td></tr><tr><td style = \"text-align: right;\">&vellip;</td><td style = \"text-align: right;\">&vellip;</td><td style = \"text-align: right;\">&vellip;</td><td style = \"text-align: right;\">&vellip;</td><td style = \"text-align: right;\">&vellip;</td><td style = \"text-align: right;\">&vellip;</td><td style = \"text-align: right;\">&vellip;</td><td style = \"text-align: right;\">&vellip;</td><td style = \"text-align: right;\">&vellip;</td><td style = \"text-align: right;\">&vellip;</td><td style = \"text-align: right;\">&vellip;</td><td style = \"text-align: right;\">&vellip;</td><td style = \"text-align: right;\">&vellip;</td><td style = \"text-align: right;\">&vellip;</td><td style = \"text-align: right;\">&vellip;</td><td style = \"text-align: right;\">&vellip;</td><td style = \"text-align: right;\">&vellip;</td><td style = \"text-align: right;\">&vellip;</td><td style = \"text-align: right;\">&vellip;</td><td style = \"text-align: right;\">&vellip;</td><td style = \"text-align: right;\">&vellip;</td><td style = \"text-align: right;\">&vellip;</td><td style = \"text-align: right;\">&vellip;</td><td style = \"text-align: right;\">&vellip;</td><td style = \"text-align: right;\">&vellip;</td></tr><tr><td class = \"rowNumber\" style = \"font-weight: bold; text-align: right;\">2463920</td><td style = \"text-align: right;\">1.0</td><td style = \"text-align: right;\">2.6</td><td style = \"text-align: right;\">1.0</td><td style = \"text-align: left;\">missing</td><td style = \"text-align: right;\">170</td><td style = \"text-align: right;\">236</td><td style = \"text-align: right;\">0</td><td style = \"text-align: right;\">11.75</td><td style = \"text-align: right;\">0.0</td><td style = \"text-align: right;\">0.5</td><td style = \"text-align: right;\">3.23</td><td style = \"text-align: right;\">0.0</td><td style = \"text-align: right;\">0.3</td><td style = \"text-align: right;\">18.28</td><td style = \"text-align: right;\">2.5</td><td style = \"text-align: right;\">0.0</td><td style = \"text-align: right;\">2022</td><td style = \"text-align: right;\">1</td><td style = \"text-align: right;\">31</td><td style = \"text-align: right;\">23</td><td style = \"text-align: right;\">23</td><td style = \"text-align: right;\">43</td><td style = \"text-align: left;\">Monday</td><td style = \"text-align: right;\">5</td></tr><tr><td class = \"rowNumber\" style = \"font-weight: bold; text-align: right;\">2463921</td><td style = \"text-align: right;\">1.0</td><td style = \"text-align: right;\">8.92</td><td style = \"text-align: right;\">1.0</td><td style = \"text-align: left;\">missing</td><td style = \"text-align: right;\">189</td><td style = \"text-align: right;\">229</td><td style = \"text-align: right;\">0</td><td style = \"text-align: right;\">30.71</td><td style = \"text-align: right;\">0.0</td><td style = \"text-align: right;\">0.0</td><td style = \"text-align: right;\">7.45</td><td style = \"text-align: right;\">0.0</td><td style = \"text-align: right;\">0.3</td><td style = \"text-align: right;\">40.96</td><td style = \"text-align: right;\">2.5</td><td style = \"text-align: right;\">0.0</td><td style = \"text-align: right;\">2022</td><td style = \"text-align: right;\">1</td><td style = \"text-align: right;\">31</td><td style = \"text-align: right;\">23</td><td style = \"text-align: right;\">1</td><td style = \"text-align: right;\">48</td><td style = \"text-align: left;\">Monday</td><td style = \"text-align: right;\">5</td></tr><tr><td class = \"rowNumber\" style = \"font-weight: bold; text-align: right;\">2463922</td><td style = \"text-align: right;\">1.0</td><td style = \"text-align: right;\">3.04</td><td style = \"text-align: right;\">1.0</td><td style = \"text-align: left;\">missing</td><td style = \"text-align: right;\">158</td><td style = \"text-align: right;\">261</td><td style = \"text-align: right;\">0</td><td style = \"text-align: right;\">13.09</td><td style = \"text-align: right;\">0.0</td><td style = \"text-align: right;\">0.5</td><td style = \"text-align: right;\">3.53</td><td style = \"text-align: right;\">0.0</td><td style = \"text-align: right;\">0.3</td><td style = \"text-align: right;\">19.92</td><td style = \"text-align: right;\">2.5</td><td style = \"text-align: right;\">0.0</td><td style = \"text-align: right;\">2022</td><td style = \"text-align: right;\">1</td><td style = \"text-align: right;\">31</td><td style = \"text-align: right;\">23</td><td style = \"text-align: right;\">36</td><td style = \"text-align: right;\">7</td><td style = \"text-align: left;\">Monday</td><td style = \"text-align: right;\">5</td></tr><tr><td class = \"rowNumber\" style = \"font-weight: bold; text-align: right;\">2463923</td><td style = \"text-align: right;\">1.0</td><td style = \"text-align: right;\">2.42</td><td style = \"text-align: right;\">1.0</td><td style = \"text-align: left;\">missing</td><td style = \"text-align: right;\">233</td><td style = \"text-align: right;\">79</td><td style = \"text-align: right;\">0</td><td style = \"text-align: right;\">10.97</td><td style = \"text-align: right;\">0.0</td><td style = \"text-align: right;\">0.5</td><td style = \"text-align: right;\">2.29</td><td style = \"text-align: right;\">0.0</td><td style = \"text-align: right;\">0.3</td><td style = \"text-align: right;\">16.56</td><td style = \"text-align: right;\">2.5</td><td style = \"text-align: right;\">0.0</td><td style = \"text-align: right;\">2022</td><td style = \"text-align: right;\">1</td><td style = \"text-align: right;\">31</td><td style = \"text-align: right;\">23</td><td style = \"text-align: right;\">9</td><td style = \"text-align: right;\">46</td><td style = \"text-align: left;\">Monday</td><td style = \"text-align: right;\">5</td></tr><tr><td class = \"rowNumber\" style = \"font-weight: bold; text-align: right;\">2463924</td><td style = \"text-align: right;\">1.0</td><td style = \"text-align: right;\">7.51</td><td style = \"text-align: right;\">1.0</td><td style = \"text-align: left;\">missing</td><td style = \"text-align: right;\">246</td><td style = \"text-align: right;\">116</td><td style = \"text-align: right;\">0</td><td style = \"text-align: right;\">26.73</td><td style = \"text-align: right;\">0.0</td><td style = \"text-align: right;\">0.5</td><td style = \"text-align: right;\">6.56</td><td style = \"text-align: right;\">0.0</td><td style = \"text-align: right;\">0.3</td><td style = \"text-align: right;\">36.59</td><td style = \"text-align: right;\">2.5</td><td style = \"text-align: right;\">0.0</td><td style = \"text-align: right;\">2022</td><td style = \"text-align: right;\">1</td><td style = \"text-align: right;\">31</td><td style = \"text-align: right;\">23</td><td style = \"text-align: right;\">51</td><td style = \"text-align: right;\">47</td><td style = \"text-align: left;\">Monday</td><td style = \"text-align: right;\">5</td></tr><tr><td class = \"rowNumber\" style = \"font-weight: bold; text-align: right;\">2463925</td><td style = \"text-align: right;\">1.0</td><td style = \"text-align: right;\">8.5</td><td style = \"text-align: right;\">1.0</td><td style = \"text-align: left;\">missing</td><td style = \"text-align: right;\">18</td><td style = \"text-align: right;\">75</td><td style = \"text-align: right;\">0</td><td style = \"text-align: right;\">25.41</td><td style = \"text-align: right;\">0.0</td><td style = \"text-align: right;\">0.5</td><td style = \"text-align: right;\">0.0</td><td style = \"text-align: right;\">0.0</td><td style = \"text-align: right;\">0.3</td><td style = \"text-align: right;\">26.21</td><td style = \"text-align: right;\">2.5</td><td style = \"text-align: right;\">0.0</td><td style = \"text-align: right;\">2022</td><td style = \"text-align: right;\">1</td><td style = \"text-align: right;\">31</td><td style = \"text-align: right;\">23</td><td style = \"text-align: right;\">49</td><td style = \"text-align: right;\">0</td><td style = \"text-align: left;\">Monday</td><td style = \"text-align: right;\">5</td></tr><tr><td class = \"rowNumber\" style = \"font-weight: bold; text-align: right;\">2463926</td><td style = \"text-align: right;\">1.0</td><td style = \"text-align: right;\">1.63</td><td style = \"text-align: right;\">1.0</td><td style = \"text-align: left;\">missing</td><td style = \"text-align: right;\">224</td><td style = \"text-align: right;\">90</td><td style = \"text-align: right;\">0</td><td style = \"text-align: right;\">9.71</td><td style = \"text-align: right;\">0.0</td><td style = \"text-align: right;\">0.5</td><td style = \"text-align: right;\">2.77</td><td style = \"text-align: right;\">0.0</td><td style = \"text-align: right;\">0.3</td><td style = \"text-align: right;\">15.78</td><td style = \"text-align: right;\">2.5</td><td style = \"text-align: right;\">0.0</td><td style = \"text-align: right;\">2022</td><td style = \"text-align: right;\">1</td><td style = \"text-align: right;\">31</td><td style = \"text-align: right;\">23</td><td style = \"text-align: right;\">2</td><td style = \"text-align: right;\">51</td><td style = \"text-align: left;\">Monday</td><td style = \"text-align: right;\">5</td></tr><tr><td class = \"rowNumber\" style = \"font-weight: bold; text-align: right;\">2463927</td><td style = \"text-align: right;\">1.0</td><td style = \"text-align: right;\">1.32</td><td style = \"text-align: right;\">1.0</td><td style = \"text-align: left;\">missing</td><td style = \"text-align: right;\">90</td><td style = \"text-align: right;\">170</td><td style = \"text-align: right;\">0</td><td style = \"text-align: right;\">8.0</td><td style = \"text-align: right;\">0.0</td><td style = \"text-align: right;\">0.5</td><td style = \"text-align: right;\">2.39</td><td style = \"text-align: right;\">0.0</td><td style = \"text-align: right;\">0.3</td><td style = \"text-align: right;\">13.69</td><td style = \"text-align: right;\">2.5</td><td style = \"text-align: right;\">0.0</td><td style = \"text-align: right;\">2022</td><td style = \"text-align: right;\">1</td><td style = \"text-align: right;\">31</td><td style = \"text-align: right;\">23</td><td style = \"text-align: right;\">36</td><td style = \"text-align: right;\">53</td><td style = \"text-align: left;\">Monday</td><td style = \"text-align: right;\">5</td></tr><tr><td class = \"rowNumber\" style = \"font-weight: bold; text-align: right;\">2463928</td><td style = \"text-align: right;\">1.0</td><td style = \"text-align: right;\">4.19</td><td style = \"text-align: right;\">1.0</td><td style = \"text-align: left;\">missing</td><td style = \"text-align: right;\">107</td><td style = \"text-align: right;\">75</td><td style = \"text-align: right;\">0</td><td style = \"text-align: right;\">16.8</td><td style = \"text-align: right;\">0.0</td><td style = \"text-align: right;\">0.5</td><td style = \"text-align: right;\">4.35</td><td style = \"text-align: right;\">0.0</td><td style = \"text-align: right;\">0.3</td><td style = \"text-align: right;\">24.45</td><td style = \"text-align: right;\">2.5</td><td style = \"text-align: right;\">0.0</td><td style = \"text-align: right;\">2022</td><td style = \"text-align: right;\">1</td><td style = \"text-align: right;\">31</td><td style = \"text-align: right;\">23</td><td style = \"text-align: right;\">44</td><td style = \"text-align: right;\">22</td><td style = \"text-align: left;\">Monday</td><td style = \"text-align: right;\">5</td></tr><tr><td class = \"rowNumber\" style = \"font-weight: bold; text-align: right;\">2463929</td><td style = \"text-align: right;\">1.0</td><td style = \"text-align: right;\">2.1</td><td style = \"text-align: right;\">1.0</td><td style = \"text-align: left;\">missing</td><td style = \"text-align: right;\">113</td><td style = \"text-align: right;\">246</td><td style = \"text-align: right;\">0</td><td style = \"text-align: right;\">11.22</td><td style = \"text-align: right;\">0.0</td><td style = \"text-align: right;\">0.5</td><td style = \"text-align: right;\">2.0</td><td style = \"text-align: right;\">0.0</td><td style = \"text-align: right;\">0.3</td><td style = \"text-align: right;\">16.52</td><td style = \"text-align: right;\">2.5</td><td style = \"text-align: right;\">0.0</td><td style = \"text-align: right;\">2022</td><td style = \"text-align: right;\">1</td><td style = \"text-align: right;\">31</td><td style = \"text-align: right;\">23</td><td style = \"text-align: right;\">39</td><td style = \"text-align: right;\">0</td><td style = \"text-align: left;\">Monday</td><td style = \"text-align: right;\">5</td></tr><tr><td class = \"rowNumber\" style = \"font-weight: bold; text-align: right;\">2463930</td><td style = \"text-align: right;\">1.0</td><td style = \"text-align: right;\">2.92</td><td style = \"text-align: right;\">1.0</td><td style = \"text-align: left;\">missing</td><td style = \"text-align: right;\">148</td><td style = \"text-align: right;\">164</td><td style = \"text-align: right;\">0</td><td style = \"text-align: right;\">12.4</td><td style = \"text-align: right;\">0.0</td><td style = \"text-align: right;\">0.5</td><td style = \"text-align: right;\">0.0</td><td style = \"text-align: right;\">0.0</td><td style = \"text-align: right;\">0.3</td><td style = \"text-align: right;\">15.7</td><td style = \"text-align: right;\">2.5</td><td style = \"text-align: right;\">0.0</td><td style = \"text-align: right;\">2022</td><td style = \"text-align: right;\">1</td><td style = \"text-align: right;\">31</td><td style = \"text-align: right;\">23</td><td style = \"text-align: right;\">36</td><td style = \"text-align: right;\">42</td><td style = \"text-align: left;\">Monday</td><td style = \"text-align: right;\">5</td></tr><tr><td class = \"rowNumber\" style = \"font-weight: bold; text-align: right;\">2463931</td><td style = \"text-align: right;\">1.0</td><td style = \"text-align: right;\">8.94</td><td style = \"text-align: right;\">1.0</td><td style = \"text-align: left;\">missing</td><td style = \"text-align: right;\">186</td><td style = \"text-align: right;\">181</td><td style = \"text-align: right;\">0</td><td style = \"text-align: right;\">25.48</td><td style = \"text-align: right;\">0.0</td><td style = \"text-align: right;\">0.5</td><td style = \"text-align: right;\">6.28</td><td style = \"text-align: right;\">0.0</td><td style = \"text-align: right;\">0.3</td><td style = \"text-align: right;\">35.06</td><td style = \"text-align: right;\">2.5</td><td style = \"text-align: right;\">0.0</td><td style = \"text-align: right;\">2022</td><td style = \"text-align: right;\">1</td><td style = \"text-align: right;\">31</td><td style = \"text-align: right;\">23</td><td style = \"text-align: right;\">46</td><td style = \"text-align: right;\">0</td><td style = \"text-align: left;\">Monday</td><td style = \"text-align: right;\">5</td></tr></tbody></table></div>"
      ],
      "text/latex": [
       "\\begin{tabular}{r|ccccccc}\n",
       "\t& passenger\\_count & trip\\_distance & RatecodeID & store\\_and\\_fwd\\_flag & PULocationID & DOLocationID & \\\\\n",
       "\t\\hline\n",
       "\t& Float64 & Float64? & Float64 & String? & Int64? & Int64? & \\\\\n",
       "\t\\hline\n",
       "\t1 & 2.0 & 3.8 & 1.0 & N & 142 & 236 & $\\dots$ \\\\\n",
       "\t2 & 1.0 & 2.1 & 1.0 & N & 236 & 42 & $\\dots$ \\\\\n",
       "\t3 & 1.0 & 0.97 & 1.0 & N & 166 & 166 & $\\dots$ \\\\\n",
       "\t4 & 1.0 & 1.09 & 1.0 & N & 114 & 68 & $\\dots$ \\\\\n",
       "\t5 & 1.0 & 4.3 & 1.0 & N & 68 & 163 & $\\dots$ \\\\\n",
       "\t6 & 1.0 & 10.3 & 1.0 & N & 138 & 161 & $\\dots$ \\\\\n",
       "\t7 & 1.0 & 5.07 & 1.0 & N & 233 & 87 & $\\dots$ \\\\\n",
       "\t8 & 1.0 & 2.02 & 1.0 & N & 238 & 152 & $\\dots$ \\\\\n",
       "\t9 & 1.0 & 2.71 & 1.0 & N & 166 & 236 & $\\dots$ \\\\\n",
       "\t10 & 1.0 & 0.78 & 1.0 & N & 236 & 141 & $\\dots$ \\\\\n",
       "\t11 & 1.0 & 1.91 & 1.0 & N & 141 & 229 & $\\dots$ \\\\\n",
       "\t12 & 3.0 & 0.82 & 1.0 & N & 114 & 90 & $\\dots$ \\\\\n",
       "\t13 & 3.0 & 0.73 & 1.0 & N & 234 & 113 & $\\dots$ \\\\\n",
       "\t14 & 2.0 & 2.16 & 1.0 & N & 246 & 79 & $\\dots$ \\\\\n",
       "\t15 & 4.0 & 1.43 & 1.0 & N & 43 & 140 & $\\dots$ \\\\\n",
       "\t16 & 1.0 & 1.58 & 1.0 & N & 239 & 151 & $\\dots$ \\\\\n",
       "\t17 & 3.0 & 4.2 & 1.0 & N & 148 & 141 & $\\dots$ \\\\\n",
       "\t18 & 2.0 & 2.2 & 1.0 & N & 237 & 107 & $\\dots$ \\\\\n",
       "\t19 & 1.0 & 0.2 & 1.0 & N & 7 & 7 & $\\dots$ \\\\\n",
       "\t20 & 2.0 & 3.9 & 1.0 & N & 107 & 263 & $\\dots$ \\\\\n",
       "\t21 & 2.0 & 3.2 & 1.0 & N & 263 & 107 & $\\dots$ \\\\\n",
       "\t22 & 1.0 & 0.0 & 1.0 & N & 161 & 161 & $\\dots$ \\\\\n",
       "\t23 & 1.0 & 1.2 & 1.0 & N & 161 & 43 & $\\dots$ \\\\\n",
       "\t24 & 1.0 & 1.7 & 1.0 & N & 239 & 24 & $\\dots$ \\\\\n",
       "\t$\\dots$ & $\\dots$ & $\\dots$ & $\\dots$ & $\\dots$ & $\\dots$ & $\\dots$ &  \\\\\n",
       "\\end{tabular}\n"
      ],
      "text/plain": [
       "\u001b[1m2463931×24 DataFrame\u001b[0m\n",
       "\u001b[1m     Row \u001b[0m│\u001b[1m passenger_count \u001b[0m\u001b[1m trip_distance \u001b[0m\u001b[1m RatecodeID \u001b[0m\u001b[1m store_and_fwd_flag \u001b[0m\u001b[1m PUL\u001b[0m ⋯\n",
       "         │\u001b[90m Float64         \u001b[0m\u001b[90m Float64?      \u001b[0m\u001b[90m Float64    \u001b[0m\u001b[90m String?            \u001b[0m\u001b[90m Int\u001b[0m ⋯\n",
       "─────────┼──────────────────────────────────────────────────────────────────────\n",
       "       1 │             2.0           3.8          1.0  N                       ⋯\n",
       "       2 │             1.0           2.1          1.0  N\n",
       "       3 │             1.0           0.97         1.0  N\n",
       "       4 │             1.0           1.09         1.0  N\n",
       "       5 │             1.0           4.3          1.0  N                       ⋯\n",
       "       6 │             1.0          10.3          1.0  N\n",
       "       7 │             1.0           5.07         1.0  N\n",
       "       8 │             1.0           2.02         1.0  N\n",
       "    ⋮    │        ⋮               ⋮            ⋮               ⋮               ⋱\n",
       " 2463925 │             1.0           8.5          1.0 \u001b[90m missing            \u001b[0m     ⋯\n",
       " 2463926 │             1.0           1.63         1.0 \u001b[90m missing            \u001b[0m\n",
       " 2463927 │             1.0           1.32         1.0 \u001b[90m missing            \u001b[0m\n",
       " 2463928 │             1.0           4.19         1.0 \u001b[90m missing            \u001b[0m\n",
       " 2463929 │             1.0           2.1          1.0 \u001b[90m missing            \u001b[0m     ⋯\n",
       " 2463930 │             1.0           2.92         1.0 \u001b[90m missing            \u001b[0m\n",
       " 2463931 │             1.0           8.94         1.0 \u001b[90m missing            \u001b[0m\n",
       "\u001b[36m                                             20 columns and 2463916 rows omitted\u001b[0m"
      ]
     },
     "metadata": {},
     "output_type": "display_data"
    },
    {
     "name": "stdout",
     "output_type": "stream",
     "text": [
      " ✔\n"
     ]
    }
   ],
   "source": [
    "using DataFrames\n",
    "using CSV\n",
    "using Parquet2\n",
    "using Statistics\n",
    "using Dates\n",
    "using MLJ\n",
    "\n",
    "function import_data(file::String)\n",
    "    data = Parquet2.Dataset(file)\n",
    "    df = DataFrame(data; copycols=false)\n",
    "    return df\n",
    "end\n",
    "\n",
    "yellow_2022_01 = import_data(\"yellow_tripdata_2022-01.parquet\")\n",
    "\n",
    "function impute_median(df::DataFrame)\n",
    "    median_cols = [:passenger_count, :airport_fee, :congestion_surcharge, :RatecodeID]\n",
    "    for col in median_cols\n",
    "        df[!, col] = coalesce.(df[!, col], median(skipmissing(df[!, col])))\n",
    "    end\n",
    "end\n",
    "\n",
    "# function impute_median(df::DataFrame)\n",
    "#     median_cols = [:passenger_count, :airport_fee, :congestion_surcharge, :RatecodeID]\n",
    "#     median_passenger_count = median(skipmissing(df[!, :passenger_count]))\n",
    "#     for col in median_cols\n",
    "#         df[!, col] = replace.(df[!, col], missing => ] )\n",
    "#     end\n",
    "# end\n",
    "\n",
    "impute_median(yellow_2022_01)\n",
    "\n",
    "\n",
    "\n",
    "function create_date_features(df::DataFrame)\n",
    "    df.pickup_year = year.(df.tpep_pickup_datetime)\n",
    "    df.pickup_month = month.(df.tpep_pickup_datetime)\n",
    "    df.pickup_day = day.(df.tpep_pickup_datetime)\n",
    "    df.pickup_hour = hour.(df.tpep_pickup_datetime)\n",
    "    df.pickup_minute = minute.(df.tpep_pickup_datetime)\n",
    "    df.pickup_second = second.(df.tpep_pickup_datetime)\n",
    "    df.pickup_weekday = dayname.(df.tpep_pickup_datetime)\n",
    "    df.pickup_week = week.(df.tpep_pickup_datetime)\n",
    "end \n",
    "\n",
    "\n",
    "create_date_features(yellow_2022_01)\n",
    "\n",
    "function drop_cols(df::DataFrame)\n",
    "    drop_cols = [:VendorID, :tpep_pickup_datetime, :tpep_dropoff_datetime]\n",
    "    for col in drop_cols\n",
    "        select!(df, Not(col))\n",
    "    end\n",
    "end\n",
    "\n",
    "drop_cols(yellow_2022_01)\n",
    "\n",
    "describe(yellow_2022_01)\n",
    "\n",
    "\n",
    "# TODO: one-hot encode vendorid and store_and_fwd_flag\n",
    "\n",
    "\n",
    "\n",
    "\n",
    "LinearRegressor = @load LinearRegressor pkg=MLJLinearModels\n",
    "\n",
    "schema(yellow_2022_01)\n",
    "\n",
    "display(yellow_2022_01)"
   ]
  },
  {
   "cell_type": "code",
   "execution_count": 35,
   "metadata": {},
   "outputs": [
    {
     "data": {
      "text/plain": [
       "linear_regression_model (generic function with 1 method)"
      ]
     },
     "metadata": {},
     "output_type": "display_data"
    }
   ],
   "source": [
    "using DataFrames\n",
    "function preprocess(df::DataFrame, predicitors::Vector)\n",
    "    processed_df = df[:, predicitors]\n",
    "    processed_df = coerce!(processed_df, Union{Missing, Continuous}=>Continuous, tight=true)\n",
    "    return processed_df\n",
    "end\n",
    "\n",
    "function train_test_split(df::DataFrame)\n",
    "    \n",
    "\n",
    "    y, X = MLJ.unpack(processed_df, ==(Symbol(\"trip_distance\")), colname -> true)\n",
    "    train, test = partition(eachindex(y), 0.7)\n",
    "    return y, X, train, test\n",
    "end\n",
    "\n",
    "\n",
    "\n",
    "function linear_regression_model()\n",
    "    OLS = @load LinearRegressor pkg=GLM\n",
    "    ols = OLS()\n",
    "    mach =  machine(ols, X, y) |> fit!\n",
    "    fitted_param = fitted_params(mach)\n",
    "    reports = report(mach)\n",
    "    return fitted_param, reports\n",
    "end\n",
    "\n",
    "# evaluate(LinearRegressor(), X, y, resampling=CV(nfolds=3), measure=rms)\n",
    "  \n",
    "@load LinearRegressor pkg=MLJLinearModels\n",
    "\n",
    "X, y = @load_boston\n",
    "mdl = LinearRegressor()\n",
    "mach = machine(mdl, X, y)\n",
    "fit!(mach)\n",
    "params = fitted_params(mach)\n",
    "\n",
    "print(params.coefs) # coefficient of the regression with names\n",
    "print(params.intercept) # intercept\n"
   ]
  },
  {
   "cell_type": "code",
   "execution_count": 36,
   "metadata": {},
   "outputs": [
    {
     "name": "stdout",
     "output_type": "stream",
     "text": [
      "import MLJGLMInterface ✔\n"
     ]
    },
    {
     "name": "stderr",
     "output_type": "stream",
     "text": [
      "┌ Info: For silent loading, specify `verbosity=0`. \n",
      "└ @ Main C:\\Users\\rhys-\\.julia\\packages\\MLJModels\\gJoE1\\src\\loading.jl:159\n",
      "┌ Info: Training machine(LinearRegressor(fit_intercept = true, …), …).\n",
      "└ @ MLJBase C:\\Users\\rhys-\\.julia\\packages\\MLJBase\\uxwHr\\src\\machines.jl:492\n"
     ]
    },
    {
     "data": {
      "text/plain": [
       "((features = [:total_amount, :passenger_count], coef = [0.001084711977410174, -0.813943926507406], intercept = 6.473695923763009), (stderror = [0.0013635945500892913, 0.3595278532803166, 0.606619173038701], dof_residual = 2.463928e6, vcov = [1.859390097033217e-6 -4.4120167850253396e-7 -3.5035294204278783e-5; -4.4120167850253396e-7 0.12926027728435288 -0.17813177679333228; -3.5035294204278783e-5 -0.17813177679333228 0.3679868210981575], deviance = 7.395790800100994e11, coef_table = ───────────────────────────────────────────────────────────────────────────────────\n",
       "                       Coef.  Std. Error      t  Pr(>|t|)    Lower 95%    Upper 95%\n",
       "───────────────────────────────────────────────────────────────────────────────────\n",
       "total_amount      0.00108471  0.00136359   0.80    0.4263  -0.00158789   0.00375731\n",
       "passenger_count  -0.813944    0.359528    -2.26    0.0236  -1.51861     -0.109282\n",
       "(Intercept)       6.4737      0.606619    10.67    <1e-25   5.28474      7.66265\n",
       "───────────────────────────────────────────────────────────────────────────────────))"
      ]
     },
     "metadata": {},
     "output_type": "display_data"
    }
   ],
   "source": [
    "processed_df = preprocess(yellow_2022_01, [:trip_distance, :total_amount, :passenger_count])\n",
    "\n",
    "y, X, train,test = train_test_split(processed_df)\n",
    "\n",
    "fitted_param, reports = linear_regression_model()"
   ]
  },
  {
   "attachments": {},
   "cell_type": "markdown",
   "metadata": {},
   "source": [
    "(name = LinearRegressor, package_name = GLM, ... )"
   ]
  }
 ],
 "metadata": {
  "kernelspec": {
   "display_name": "Julia 1.8.5",
   "language": "julia",
   "name": "julia-1.8"
  },
  "language_info": {
   "file_extension": ".jl",
   "mimetype": "application/julia",
   "name": "julia",
   "version": "1.8.5"
  },
  "orig_nbformat": 4
 },
 "nbformat": 4,
 "nbformat_minor": 2
}
